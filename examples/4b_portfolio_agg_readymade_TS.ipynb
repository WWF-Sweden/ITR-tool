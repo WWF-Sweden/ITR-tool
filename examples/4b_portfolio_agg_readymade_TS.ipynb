{
 "cells": [
  {
   "attachments": {},
   "cell_type": "markdown",
   "metadata": {},
   "source": [
    "# WWF Finance Tool - Aggregation of ready made Temperature Scores\n",
    "This notebook can be used to run portfolio aggregation using files with ready made Temperature Scores from data providers. See notebooks #1 and #4 for more details on portfolio aggregation. \n",
    "\n",
    "Please see the [methodology](https://sciencebasedtargets.org/wp-content/uploads/2020/09/Temperature-Rating-Methodology-V1.pdf), [guidance](https://sciencebasedtargets.org/wp-content/uploads/2020/10/Financial-Sector-Science-Based-Targets-Guidance-Pilot-Version.pdf) and the [technical documentation](https://wwf-sweden.github.io/ITR-tool/)  for more details on the different aggregation methods.\n",
    "\n",
    "See 1_analysis_example (on [Colab](https://colab.research.google.com/github/WWF-Sweden/ITR-tool/blob/main/examples/1_analysis_example.ipynb) or [Github](https://github.com/WWF-Sweden/ITR-tool/blob/main/examples/1_analysis_example.ipynb)) for more in depth example of how to work with Jupyter Notebooks in general and WWF notebooks in particular. \n"
   ]
  },
  {
   "attachments": {},
   "cell_type": "markdown",
   "metadata": {},
   "source": [
    "## Setting up\n",
    "First we will set up the imports and load the file with the company data and temperature scores. \n"
   ]
  },
  {
   "cell_type": "code",
   "execution_count": null,
   "metadata": {},
   "outputs": [],
   "source": [
    "%pip install wwf-itr"
   ]
  },
  {
   "cell_type": "code",
   "execution_count": null,
   "metadata": {},
   "outputs": [],
   "source": [
    "%load_ext autoreload\n",
    "%autoreload 2\n",
    "import ITR\n",
    "from ITR.portfolio_aggregation import PortfolioAggregationMethod\n",
    "from ITR.temperature_score import TemperatureScore\n",
    "from ITR.interfaces import ETimeFrames, EScope\n",
    "import pandas as pd\n",
    "import urllib.request\n",
    "import os\n",
    "\n",
    "if not os.path.isfile(\"utils.py\"):\n",
    "    urllib.request.urlretrieve(\"https://github.com/WWF-Sweden/ITR-tool/raw/main/examples/utils.py\", \"utils.py\")\n",
    "try:  # Import statement when run in Google Colabs\n",
    "    from utils import collect_company_contributions, plot_grouped_statistics, anonymize, print_aggregations, \\\n",
    "        plot_grouped_heatmap, print_scenario_gain, print_grouped_scores, get_contributions_per_group\n",
    "except:  # Import statement when run locally\n",
    "    from examples.utils import collect_company_contributions, plot_grouped_statistics, anonymize, print_aggregations, \\\n",
    "        plot_grouped_heatmap, print_scenario_gain, print_grouped_scores, get_contributions_per_group"
   ]
  },
  {
   "cell_type": "code",
   "execution_count": null,
   "metadata": {},
   "outputs": [],
   "source": [
    "# Download the dummy data\n",
    "import urllib.request\n",
    "import os\n",
    "\n",
    "if not os.path.isdir(\"data\"):\n",
    "    os.mkdir(\"data\")\n",
    "if not os.path.isfile(\"data/example_data_provider_TS.xlsx\"):\n",
    "    urllib.request.urlretrieve(\"https://github.com/WWF-Sweden/ITR-tool/raw/main/examples/data/example_data_provider_TS.xlsx\", \"data/example_data_provider_TS.xlsx\")\n"
   ]
  },
  {
   "cell_type": "code",
   "execution_count": null,
   "metadata": {},
   "outputs": [],
   "source": [
    "# Create a temperature score instance with the desired time frames and scopes\n",
    "ts = TemperatureScore(time_frames=[ETimeFrames.SHORT, ETimeFrames.MID, ETimeFrames.LONG], \n",
    "    scopes=[EScope.S1, EScope.S2, EScope.S1S2, EScope.S3, EScope.S1S2S3])"
   ]
  },
  {
   "attachments": {},
   "cell_type": "markdown",
   "metadata": {},
   "source": [
    "### Load the temperature data"
   ]
  },
  {
   "cell_type": "code",
   "execution_count": null,
   "metadata": {},
   "outputs": [],
   "source": [
    "df_portfolio = pd.read_excel(\"data/example_data_provider_TS.xlsx\")\n",
    "# Convert the scope and time_frame columns to enums (EScope and ETimeFrames)\n",
    "df_portfolio['scope'] = df_portfolio['scope'].apply(lambda x: EScope[x.upper()])\n",
    "df_portfolio['time_frame'] = df_portfolio['time_frame'].apply(lambda x: ETimeFrames[x.upper()])\n",
    "if not 'temperature_results' in df_portfolio.columns:\n",
    "    df_portfolio['temperature_results'] = 0\n",
    "# Create a dictionary to store the portfolio scores for different aggregation methods\n",
    "scores_collection = {}"
   ]
  },
  {
   "cell_type": "markdown",
   "metadata": {},
   "source": [
    "## Calculate the aggregated temperature score\n",
    "Calculate an aggregated temperature score. This can be done using different aggregation methods. The termperature scores are calculated per time-frame/scope combination."
   ]
  },
  {
   "cell_type": "markdown",
   "metadata": {
    "pycharm": {
     "name": "#%% md\n"
    }
   },
   "source": [
    "### WATS\n",
    "Weighted Average Temperature Score (WATS): Temperature scores are allocated based on portfolio weights.\n",
    "This method uses the \"investment_value\" field to be defined in your portfolio data."
   ]
  },
  {
   "cell_type": "code",
   "execution_count": null,
   "metadata": {
    "pycharm": {
     "name": "#%%\n"
    }
   },
   "outputs": [],
   "source": [
    "ts.aggregation_method = PortfolioAggregationMethod.WATS\n",
    "aggregated_scores = ts.aggregate_scores(df_portfolio)\n",
    "df_wats = pd.DataFrame(aggregated_scores.dict()).apply(lambda x: x.map(lambda y: round(y['all']['score'], 2) \n",
    "            if y is not None and y['all'] is not None and 'score' in y['all'] else None))\n",
    "scores_collection.update({'WATS': df_wats})\n",
    "df_wats"
   ]
  },
  {
   "cell_type": "markdown",
   "metadata": {
    "pycharm": {
     "name": "#%% md\n"
    }
   },
   "source": [
    "### TETS\n",
    "Total emissions weighted temperature score (TETS): Temperature scores are allocated based on historical emission weights using total company emissions. \n",
    "In addition to the portfolios \"investment value\" the TETS method requires company emissions, please refer to [Data Legends - Fundamental Data](https://wwf-sweden.github.io/ITR-tool/Legends.html#fundamental-data) for more details"
   ]
  },
  {
   "cell_type": "code",
   "execution_count": null,
   "metadata": {
    "pycharm": {
     "name": "#%%\n"
    }
   },
   "outputs": [],
   "source": [
    "ts.aggregation_method = PortfolioAggregationMethod.TETS\n",
    "aggregated_scores = ts.aggregate_scores(df_portfolio)\n",
    "df_tets = pd.DataFrame(aggregated_scores.dict()).apply(lambda x: x.map(lambda y: round(y['all']['score'], 2) \n",
    "            if y is not None and y['all'] is not None and 'score' in y['all'] else None))\n",
    "scores_collection.update({'TETS': df_tets})\n",
    "df_tets"
   ]
  },
  {
   "cell_type": "markdown",
   "metadata": {
    "pycharm": {
     "name": "#%% md\n"
    }
   },
   "source": [
    "### MOTS\n",
    "Market Owned emissions weighted temperature score (MOTS): Temperature scores are allocated based on an equity ownership approach.\n",
    "In addition to the portfolios \"investment value\" the MOTS method requires company emissions and market cap, please refer to  [Data Legends - Fundamental Data](https://wwf-sweden.github.io/ITR-tool/Legends.html#fundamental-data) for more details"
   ]
  },
  {
   "cell_type": "code",
   "execution_count": null,
   "metadata": {
    "pycharm": {
     "name": "#%%\n"
    }
   },
   "outputs": [],
   "source": [
    "ts.aggregation_method = PortfolioAggregationMethod.MOTS\n",
    "aggregated_scores = ts.aggregate_scores(df_portfolio)\n",
    "df_mots = pd.DataFrame(aggregated_scores.dict()).apply(lambda x: x.map(lambda y: round(y['all']['score'], 2) \n",
    "            if y is not None and y['all'] is not None and 'score' in y['all'] else None))\n",
    "scores_collection.update({'MOTS': df_mots})\n",
    "df_mots"
   ]
  },
  {
   "cell_type": "markdown",
   "metadata": {
    "pycharm": {
     "name": "#%% md\n"
    }
   },
   "source": [
    "### EOTS\n",
    "Enterprise Owned emissions weighted temperature score (EOTS): Temperature scores are allocated based\n",
    "on an enterprise ownership approach. \n",
    "In addition to the portfolios \"investment value\" the EOTS method requires company emissions and enterprise value, please refer to  [Data Legends - Fundamental Data](https://wwf-sweden.github.io/ITR-tool/Legends.html#fundamental-data) for more details"
   ]
  },
  {
   "cell_type": "code",
   "execution_count": null,
   "metadata": {
    "pycharm": {
     "name": "#%%\n"
    }
   },
   "outputs": [],
   "source": [
    "ts.aggregation_method = PortfolioAggregationMethod.EOTS\n",
    "aggregated_scores = ts.aggregate_scores(df_portfolio)\n",
    "df_eots = pd.DataFrame(aggregated_scores.dict()).apply(lambda x: x.map(lambda y: round(y['all']['score'], 2) \n",
    "            if y is not None and y['all'] is not None and 'score' in y['all'] else None))\n",
    "scores_collection.update({'EOTS': df_eots})\n",
    "df_eots"
   ]
  },
  {
   "cell_type": "markdown",
   "metadata": {
    "pycharm": {
     "name": "#%% md\n"
    }
   },
   "source": [
    "### ECOTS\n",
    "Enterprise Value + Cash emissions weighted temperature score (ECOTS): Temperature scores are allocated based on an enterprise value (EV) plus cash & equivalents ownership approach. \n",
    "In addition to the portfolios \"investment value\" the ECOTS method requires company emissions, company cash equivalents and enterprise value; please refer to  [Data Legends - Fundamental Data](https://wwf-sweden.github.io/ITR-tool/Legends.html#fundamental-data) for more details"
   ]
  },
  {
   "cell_type": "code",
   "execution_count": null,
   "metadata": {
    "pycharm": {
     "name": "#%%\n"
    }
   },
   "outputs": [],
   "source": [
    "ts.aggregation_method = PortfolioAggregationMethod.ECOTS\n",
    "aggregated_scores = ts.aggregate_scores(df_portfolio)\n",
    "df_ecots =pd.DataFrame(aggregated_scores.dict()).apply(lambda x: x.map(lambda y: round(y['all']['score'], 2) \n",
    "            if y is not None and y['all'] is not None and 'score' in y['all'] else None))\n",
    "scores_collection.update({'ECOTS': df_ecots})\n",
    "df_ecots"
   ]
  },
  {
   "cell_type": "markdown",
   "metadata": {
    "pycharm": {
     "name": "#%% md\n"
    }
   },
   "source": [
    "### AOTS\n",
    "Total Assets emissions weighted temperature score (AOTS): Temperature scores are allocated based on a total assets ownership approach. \n",
    "In addition to the portfolios \"investment value\" the AOTS method requires company emissions and company total assets; please refer to  [Data Legends - Fundamental Data](https://wwf-sweden.github.io/ITR-tool/Legends.html#fundamental-data) for more details"
   ]
  },
  {
   "cell_type": "code",
   "execution_count": null,
   "metadata": {
    "pycharm": {
     "name": "#%%\n"
    }
   },
   "outputs": [],
   "source": [
    "ts.aggregation_method = PortfolioAggregationMethod.AOTS\n",
    "aggregated_scores = ts.aggregate_scores(df_portfolio)\n",
    "df_aots = pd.DataFrame(aggregated_scores.dict()).apply(lambda x: x.map(lambda y: round(y['all']['score'], 2) \n",
    "            if y is not None and y['all'] is not None and 'score' in y['all'] else None))\n",
    "scores_collection.update({'AOTS': df_aots})\n",
    "df_aots"
   ]
  },
  {
   "cell_type": "markdown",
   "metadata": {
    "pycharm": {
     "name": "#%% md\n"
    }
   },
   "source": [
    "### ROTS\n",
    "Revenue owned emissions weighted temperature score (ROTS): Temperature scores are allocated based on the share of revenue.\n",
    "In addition to the portfolios \"investment value\" the ROTS method requires company emissions and company revenue; please refer to  [Data Legends - Fundamental Data](https://wwf-sweden.github.io/ITR-tool/Legends.html#fundamental-data) for more details"
   ]
  },
  {
   "cell_type": "code",
   "execution_count": null,
   "metadata": {
    "pycharm": {
     "name": "#%%\n"
    }
   },
   "outputs": [],
   "source": [
    "ts.aggregation_method = PortfolioAggregationMethod.ROTS\n",
    "aggregated_scores = ts.aggregate_scores(df_portfolio)\n",
    "df_rots = pd.DataFrame(aggregated_scores.dict()).apply(lambda x: x.map(lambda y: round(y['all']['score'], 2) \n",
    "            if y is not None and y['all'] is not None and 'score' in y['all'] else None))\n",
    "scores_collection.update({'ROTS': df_rots})\n",
    "df_rots"
   ]
  },
  {
   "cell_type": "markdown",
   "metadata": {
    "pycharm": {
     "name": "#%% md\n"
    }
   },
   "source": [
    "See below how each aggregation method impact the scores on for each time frame and scope combination"
   ]
  },
  {
   "cell_type": "code",
   "execution_count": null,
   "metadata": {
    "pycharm": {
     "name": "#%%\n"
    }
   },
   "outputs": [],
   "source": [
    "pd.concat(scores_collection, axis=0)"
   ]
  },
  {
   "cell_type": "markdown",
   "metadata": {},
   "source": [
    "### Generate a heat map over the temperature scores per industry and region"
   ]
  },
  {
   "cell_type": "code",
   "execution_count": null,
   "metadata": {},
   "outputs": [],
   "source": [
    "grouping = ['industry_level_1', 'region']\n",
    "temperature_score = TemperatureScore(\n",
    "    time_frames=[ETimeFrames.MID], \n",
    "    scopes=[EScope.S1S2, EScope.S3],\n",
    "    grouping=grouping\n",
    ")\n",
    "grouped_aggregations = temperature_score.aggregate_scores(df_portfolio)"
   ]
  },
  {
   "cell_type": "code",
   "execution_count": null,
   "metadata": {},
   "outputs": [],
   "source": [
    "analysis_parameters = ([ETimeFrames.MID], [EScope.S1S2], grouping)\n",
    "plot_grouped_heatmap(grouped_aggregations, analysis_parameters)"
   ]
  },
  {
   "cell_type": "markdown",
   "metadata": {},
   "source": [
    "#### Dive deeper into selected region and industry"
   ]
  },
  {
   "cell_type": "code",
   "execution_count": null,
   "metadata": {},
   "outputs": [],
   "source": [
    "region = 'Europe'\n",
    "sector = 'Utilities'\n",
    "group = sector + '-' + region\n",
    "analysis_parameters = ([ETimeFrames.MID], [EScope.S1S2], grouping)\n",
    "group_contributions = get_contributions_per_group(grouped_aggregations, analysis_parameters, group)\n",
    "print(group_contributions)"
   ]
  }
 ],
 "metadata": {
  "kernelspec": {
   "display_name": "sbti_getting_started",
   "language": "python",
   "name": "python3"
  },
  "language_info": {
   "codemirror_mode": {
    "name": "ipython",
    "version": 3
   },
   "file_extension": ".py",
   "mimetype": "text/x-python",
   "name": "python",
   "nbconvert_exporter": "python",
   "pygments_lexer": "ipython3",
   "version": "3.9.6"
  },
  "pycharm": {
   "stem_cell": {
    "cell_type": "raw",
    "metadata": {
     "collapsed": false
    },
    "source": []
   }
  },
  "vscode": {
   "interpreter": {
    "hash": "260a89ed4759e207a7c9e5b2d37763935150b09a767b0397e1862244756e4254"
   }
  }
 },
 "nbformat": 4,
 "nbformat_minor": 4
}
