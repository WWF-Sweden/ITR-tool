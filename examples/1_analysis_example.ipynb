{
 "cells": [
  {
   "cell_type": "markdown",
   "metadata": {},
   "source": [
    "# WWF Finance Tool for Temperature Scoring & Portfolio Coverage\n",
    "***Do you want to understand what drives the temperature score of your portfolio to make better engagement and investment decisions?***\n",
    "\n",
    "![ExampleGraphs](https://github.com/WWF-Sweden/ITR-tool/raw/main/examples/images/JN_HeroImage.jpg)"
   ]
  },
  {
   "cell_type": "markdown",
   "metadata": {},
   "source": [
    "This notebook provides some examples of how to use the WWF Finance Tool to analyse portfolios' and companies' GHG emissions\n",
    "reduction targets. In this notebook we explain:\n",
    "* Why we built this tool\n",
    "* What you can use ths tool for\n",
    "* Data requirements\n",
    "* How temperature scores are calculated\n",
    "* Full analysis workflow covering:\n",
    "  * Converting targets to temperature scores\n",
    "  * Calculate company temperature scores\n",
    "  * Calculate portfolio level temperature scores\n",
    "  * Calculate portfolio coverage \n",
    "  * Analyse portfolio hotspots for regions, sectors and companies\n",
    "  * Find suitable companies to engage with\n",
    "  * What-if analysis to similuate potential outcome of your company engagement\n",
    "* How to export data for further analysis in other applications\n",
    "\n",
    "Use the ToC in the left hand pane to navigate between sections.\n",
    "\n",
    "The notebook is not intended as a production tool, but for you to be able to evaluate if this tool can fit with your objectives and workflow. The open source code for the tool is available at https://github.com/WWF-Sweden/ITR-tool, which should allow you to integrate it into your environment and then use as a production tool. A number of commercial data and services providers, such as CDP, Bloomberg, ICE (Intercontinental Exchnages), Datia, Matter and Clarity AI provide solutions based on the CDP-WWF Temperature Scoring Methodology (https://wwf.panda.org/discover/our_focus/finance/?11961441/CDP-WWF-Temperature-Scoring-Methodology).\n",
    "\n",
    "This notebook combines text and code to provide a testing environment for your research, to give you and understanding of how the tool can help you analyse companies' and portfolios' temperature scores (TS), to aid your engagement and investment decisions.\n",
    "\n",
    "The notebook is loaded with example data, but you can also use your own data. For your first test, you can simply run the code cells one by one in the current sequence, to get an understanding of how it works.\n",
    "\n",
    "To run the code in a notebook, simply click on a cell and press SHIFT+ENTER or click the black \"Play/Run cell\" button in\n",
    "between the brackets [ ] (hover over it with your mouse) in the upper left hand corner of each code cell.\n",
    "\n",
    "![PlayButton](https://github.com/WWF-Sweden/ITR-tool/raw/main/examples/images/JN_Play.png)\n",
    "\n",
    "Google Colab might hide cells depending on your colab settings. Please press *CRTL+\\[* to expand all cells or select the option from the view menu in the toolbar, as shown below:\n",
    "\n",
    "![ExpandButton](https://github.com/WWF-Sweden/ITR-tool/raw/main/examples/images/JN_Colab_expand.png)\n",
    "\n",
    "Be aware that the session in this notebook is temporary. When you close it or leave it unused for a long period, you need to restart\n",
    "the notebook from the beginning.\n",
    "\n",
    "Beware of the order in which you run the cells - if you do not follow the order below, you may run into errors. In that\n",
    "case, start again from the top.\n",
    "\n",
    "If you are not familiar with Notebooks, please refer to [this introduction](https://colab.research.google.com/notebooks/basic_features_overview.ipynb)."
   ]
  },
  {
   "cell_type": "markdown",
   "metadata": {},
   "source": [
    "## Introduction to temperature scoring and portfolio coverage methods\n",
    "\n",
    "Three methods are currently supported by the [SBTi](https://sciencebasedtargets.org/financial-institutions) for setting targets on scope 3 portfolio emissions: the Sectoral Decarbonization Approach (SDA), the SBT Portfolio Coverage, and the CDP-WWF Temperature Scoring Method. The latter two methods, Portfolio Coverage and Temperature Scoring, require assessing targets disclosed by the companies. These methods can also be used by companies outside of the finance sector, e.g. for assessing their own value chains and in particular the supply chain.\n",
    "\n",
    "The tool allows users to use the portfolio coverage and/or [the CDP-WWF Temperature Scoring Methodology](https://wwfint.awsassets.panda.org/downloads/cdp-wwf-temperature-scoring-methodology---september-2024.pdf) to set targets for their value chains or financial portfolios which may include for instance suppliers, clients, corporate debt, equity, bonds, private equity and and other financial instruments and activities.\n",
    "\n",
    "The *portfolio coverage method* asseses how much of the portfolio or value chain that has set emissions reduction targets *validated by the SBTi*. This is similar to the SBTi supplier engagement method that can be used by non-financial companies to set SBTi targets for parts of their scope 3 emissions. The portfolio coverage method produces a percentage showing how much of a portfolio or value chaing that has set an SBTi-validated target.\n",
    "\n",
    "With the *temperature scoring method*, the user can assess the current temperature score of their portfolio or value chain based on the public GHG emissions reduction targets set by their portfolio or value chain constutuents. These targets include *all public targets*, validated by the SBTi or otherwise valid public emissions reduction targets that meet the method criteria. The resulting temperature score can then then be used by financial institutions and non-financial companies to set their own scope 3 targets to align their base year portfolio temperature score to a long-term temperature goal, e.g. 1.5°C.\n",
    "\n",
    "The CDP-WWF Temperature Scoring Methodology is an open source framework to enable the translation of corporate GHG emission reduction targets into temperature scores at a target, company, and a portfolio level. The method provides a protocol to enable the aggregation of target level scores to generate a temperature score for a company based on the ambition of its targets.\n",
    "Finally, the method defines a series of weighting options that can enable financial institutions and others to produce portfolio level temperature ratings."
   ]
  },
  {
   "cell_type": "markdown",
   "metadata": {},
   "source": [
    "### Why have we built this tool?\n",
    "The SBTi originally developed this tool to function as a calculator for the portfolio coverage and temperature scoring methods. WWF have updated the tool to integrate with the latest science, such as building regression models on AR6, using a compounded emissions reduction instead of linnear, introducing a temperaturee floor at 1.5°C, as well as adding a number of improvements to the tool.\n",
    "This tool is fed with the necessary data to generate temperature scores at the company and portfolio/value chain level, in addition to providing analytics on target setting. The code reflects the logical steps that are outlined in the publicly available\n",
    "[temperature scoring methodology](https://wwfint.awsassets.panda.org/downloads/cdp-wwf-temperature-scoring-methodology---september-2024.pdf),\n",
    "develped by [CDP](https://www.cdp.net/) and [WWF](https://wwf.panda.org/).\n",
    "\n",
    "The tool was created to enable the widespread implementation of the method by data providers and financial institutions, to work with any data source and in most IT environments. The tool provides the following outputs:\n",
    "* Portfolio coverage: generate the % of the portfolio currently covered by approved science based targets.\n",
    "* Temperature scoring: generate the base year temperature score of the portfolio (in addition to the individual temperature scores of the portfolio companies). It also enables the generation of what-if analysis to showcase how this temperature score could be reduced."
   ]
  },
  {
   "cell_type": "markdown",
   "metadata": {},
   "source": [
    "### What can you use the WWF Finance Tool for?\n",
    "\n",
    "As a portfolio manager or analyst, you can use the WWF ITR Tool for analysing companies, sectors, countries, investment strategies and portfolios to understand how they contribute to climate change. You can for example:\n",
    "* Measure your value chain/portfolio's current temperature score\n",
    "* Identify the biggest contributors on an individual company, country and sector basis\n",
    "* Use the tool as an aid for strategic allocation and securities selection\n",
    "* Analyse what effect changes in your portfolio might have on the portfolio  temperature score\n",
    "* Model impact of engagement on your temperature score, that is, how your score could improve if you were able to convince an investee company to participate in setting GHG reduction targets\n",
    "* Identify which company engagements would have the biggest impact on your portfolio's temperature score\n",
    "* Plan engagement strategies based on your modelling\n",
    "* Help you create an action plan for reaching your emission reduction target\n",
    "* All companies can be evaluated, enabling 100% analysis of a value chain/portfolio, as companies without valid targets are given a default score. Read more under section 5.3.2. default score aproaches in [the methodology paper](https://wwfint.awsassets.panda.org/downloads/cdp-wwf-temperature-scoring-methodology---september-2024.pdf). "
   ]
  },
  {
   "cell_type": "markdown",
   "metadata": {},
   "source": [
    "### What data do I need to use the tool?\n",
    "The tool itself is data agnostic, and has no built in databases. This means that users must import all needed data to perform the analysis. This can come from a variety of sources, but must be inputted in the required formats. Four types of data are needed to run the calculator. These are described in the table below.\n",
    "The exception is the list of companies with targets validated by the SBTi that the tool fetches from SBTi's website (https://sciencebasedtargets.org/), to help calculate the portfolio coverage.\n",
    "\n",
    "#### Company identifiers\n",
    "\n",
    "Company name, ISIC (International Standard Industrial Classification) sector classification, and a unique company identifier, such as LEI, ISIN or other company identifier, are required to be fed into the tool.\n",
    "\n",
    "#### Corporate GHG targets\n",
    "\n",
    "This refers to the data required to analyse a corporate GHG reduction target, including:\n",
    "* Target types (absolute/intensity/ITR)\n",
    "* Base year\n",
    "* Target year\n",
    "* Scope coverage\n",
    "* Boundary coverage within scope\n",
    "* % of target achieved\n",
    "* Intensity activity (if appliable)\n",
    "\n",
    "#### GHG Emission Data\n",
    "\n",
    "GHG emission data for scope 1, 2 and 3 is needed. If data is not available a default score is applied, read more under section 5.3.2. default score aproaches in [the methodology paper](https://wwfint.awsassets.panda.org/downloads/cdp-wwf-temperature-scoring-methodology---september-2024.pdf).\n",
    "\n",
    "#### Portfolio financial data\n",
    "\n",
    "Seven weighting option are currently provided to aggregate company scores to produce portfolio scores.\n",
    "Depending on the option chosen, the following data may be required:\n",
    "\n",
    "a. Invested value (holdings)\n",
    "\n",
    "b. Market capitalisation\n",
    "\n",
    "c. Enterprise value\n",
    "\n",
    "d. Cash and cash equivalents \n",
    "\n",
    "e. Total assets\n",
    "\n",
    "f. Revenue\n",
    "\n",
    "Refer to [Data Requirements](https://wwf-sweden.github.io/ITR-tool/DataRequirements.html#) for full documentation.\n",
    "Also refer to the full methodology for [temperature scoring](https://wwfint.awsassets.panda.org/downloads/cdp-wwf-temperature-scoring-methodology---september-2024.pdf)."
   ]
  },
  {
   "cell_type": "markdown",
   "metadata": {},
   "source": [
    "### Where do I get the data?\n",
    "Commercial data providers such as:\n",
    "* Bloomberg\n",
    "* CDP\n",
    "* Factset\n",
    "* ICE\n",
    "* ISS-ESG\n",
    "* MSCI\n",
    "* Refinitive\n",
    "\n",
    "can provide some or all of the data needed for the WWF Finance Tool.\n",
    "\n",
    "There is also a free data set available with target data on SBTi's website. This includes data of all the companies that have set emissions reduction targets that have been approved by SBTi and is updated on a weekly basis. You can download an Excel-file with the data here: https://sciencebasedtargets.org/companies-taking-action/.\n",
    "\n",
    "However, the tool does allow you to also calculate temperature scores for companies that have publicly announced emission reduction targets but that have not had them validated by the SBTi. Commercial data providers such as those mentioned above can provide target data for these companies."
   ]
  },
  {
   "cell_type": "markdown",
   "metadata": {},
   "source": [
    "## Start your analysis here\n",
    "\n",
    "The methodology consists of four key steps, each requiring specific data points that are inputted at the beginning of the process. These data points are then used to convert the corporate targets into temperature scores at the company and the portfolio level.\n",
    "\n",
    "**Step 1:** This is the preparation step before any data is imported, where IPCC AR6 scenarios are used to create becnhmarks. These resulting 15 linear regression are in the following steps used to compute the temperature scores. When benchmarks are created, the ISIC sector classification is used to link the target to the appropriate regression model.\n",
    "\n",
    "**Step 2a:** GHG emission data is imported into the Python tool and is validated according the criteria mentioned above.\n",
    "\n",
    "**Step 2b:** Targets are selected and then aggregated to compute scope-level and company-level temperatue scores.\n",
    "\n",
    "**Step 3:** Multiple company score are aggregated into portfolio scores using different weighting options. \n",
    "\n",
    "![TSWorkflow](https://github.com/WWF-Sweden/ITR-tool/raw/main/examples/images/JN_DataFlow.png)"
   ]
  },
  {
   "cell_type": "markdown",
   "metadata": {},
   "source": [
    "#### Install the WWF Python module\n",
    "\n",
    "This is only required if you haven't already installed the WWF module. The next two cells load the required Python packages to use the WWF tool."
   ]
  },
  {
   "cell_type": "code",
   "execution_count": null,
   "metadata": {
    "pycharm": {
     "is_executing": false,
     "name": "#%%\n"
    }
   },
   "outputs": [],
   "source": [
    "%pip install wwf-itr "
   ]
  },
  {
   "cell_type": "code",
   "execution_count": null,
   "metadata": {
    "pycharm": {
     "is_executing": false,
     "name": "#%%\n"
    }
   },
   "outputs": [],
   "source": [
    "import ITR\n",
    "from ITR.data.excel import ExcelProvider\n",
    "from ITR.portfolio_aggregation import PortfolioAggregationMethod\n",
    "from ITR.portfolio_coverage_tvp import PortfolioCoverageTVP\n",
    "from ITR.temperature_score import TemperatureScore, Scenario, ScenarioType, EngagementType\n",
    "from ITR.interfaces import ETimeFrames, EScope\n",
    "import pandas as pd\n",
    "%matplotlib inline"
   ]
  },
  {
   "cell_type": "markdown",
   "metadata": {},
   "source": [
    "#### Download resources for Google Colab environment\n",
    "\n",
    "This is only required if you are using Google Colab. Otherwise, just skip this section.\n",
    "The following cell retrieves the example data and plotting functionality and places it in this Google Colab environment, so that it\n",
    "can be used further on to show the tool's options.\n",
    "The data_provider_example contains the fundamental (emissions and financial) and target data, while the example_portfolio contains\n",
    "the list of companies with identifiers and investment values. Later on you can choose to use your own data instead."
   ]
  },
  {
   "cell_type": "code",
   "execution_count": null,
   "metadata": {
    "pycharm": {
     "is_executing": false,
     "name": "#%%\n"
    }
   },
   "outputs": [],
   "source": [
    "import urllib.request\n",
    "import os\n",
    "\n",
    "if not os.path.isdir(\"data\"):\n",
    "    os.mkdir(\"data\")\n",
    "if not os.path.isfile(\"data/data_provider_example.xlsx\"):\n",
    "    urllib.request.urlretrieve(\"https://github.com/WWF-Sweden/ITR-tool/raw/main/examples/data/data_provider_example.xlsx\", \"data/data_provider_example.xlsx\")\n",
    "if not os.path.isfile(\"data/example_portfolio.csv\"):\n",
    "    urllib.request.urlretrieve(\"https://github.com/WWF-Sweden/ITR-tool/raw/main/examples/data/example_portfolio.csv\", \"data/example_portfolio.csv\")\n",
    "if not os.path.isfile(\"utils.py\"):\n",
    "    urllib.request.urlretrieve(\"https://github.com/WWF-Sweden/ITR-tool/raw/main/examples/utils.py\", \"utils.py\")\n",
    "try:  # Import statement when run in Google Colabs\n",
    "    from utils import collect_company_contributions, plot_grouped_statistics, anonymize, print_aggregations, \\\n",
    "        plot_grouped_heatmap, print_scenario_gain, print_grouped_scores, get_contributions_per_group\n",
    "except:  # Import statement when run locally\n",
    "    from examples.utils import collect_company_contributions, plot_grouped_statistics, anonymize, print_aggregations, \\\n",
    "        plot_grouped_heatmap, print_scenario_gain, print_grouped_scores, get_contributions_per_group"
   ]
  },
  {
   "cell_type": "markdown",
   "metadata": {},
   "source": [
    "#### Logging\n",
    "\n",
    "The following cell initialises the Python standard library logging utilities. The SBTi module makes use of these utilities\n",
    "to send log messages on warnings or errors that can arise during use of the module, which help the user to pinpoint\n",
    "potential mistakes. The log level can be changed according to the users needs."
   ]
  },
  {
   "cell_type": "code",
   "execution_count": null,
   "metadata": {
    "pycharm": {
     "is_executing": false,
     "name": "#%%\n"
    }
   },
   "outputs": [],
   "source": [
    "import logging\n",
    "root_logger = logging.getLogger()\n",
    "root_logger.setLevel(\"INFO\")"
   ]
  },
  {
   "cell_type": "markdown",
   "metadata": {},
   "source": [
    "#### Upload fundamental and target data \n",
    "\n",
    "By running the following cell, you load our example data. If you want to score your own portfolio, this is where you can upload data\n",
    "from your data provider or your own data lake. Please refer to [Data Requirements](https://wwf-sweden.github.io/ITR-tool/DataRequirements.html#) for a\n",
    "full description of the data and formats needed.\n",
    "\n",
    "By specifying a data provider, you can connect to the data source of your choice, e.g. CDP, Urgentem, your own data lake, etc. In this\n",
    "example, the provider data is located in an Excel file.\n",
    "Per default we use the example data downloaded in the previous step.\n",
    "To replace the example data with your own data, first place your file in the data folder:\n",
    "- When using Google Colab: click the folder logo in the left pane; hover your mouse of the 'data' folder; click the three dots; click upload; select your file.\n",
    "- When running this notebook locally: place your file in the 'data' folder that is located in the same directory as this notebook.\n",
    "\n",
    "Next, change the file location between the quotes below: replace 'data_provider_example' with your_filename (don't remove the double quotes in the cell below)."
   ]
  },
  {
   "cell_type": "code",
   "execution_count": null,
   "metadata": {
    "pycharm": {
     "is_executing": false,
     "name": "#%%\n"
    }
   },
   "outputs": [],
   "source": [
    "provider = ExcelProvider(path=\"data/data_provider_example.xlsx\")"
   ]
  },
  {
   "cell_type": "markdown",
   "metadata": {},
   "source": [
    "#### Load your portfolio\n",
    "\n",
    "In this example, the portfolio data is stored as a CSV file. If you wish to replace the portfolio file with your own portfolio file,\n",
    "your CSV file should at least have a \"company_id\" column (the identifier of the company) and a \"investment value\" column (the amount\n",
    "of money invested in each of the companies in your portfolio e.g. the value of the shares you hold). Please refer to [Data Requirements](https://wwf-sweden.github.io/ITR-tool/DataRequirements.html#) for a full description of the data and formats needed.\n",
    "To change the portfolio file, follow the same steps as for the data provider, described above.\n",
    "Next, change the file location between the quotes below: replace '`example_portfolio`' with your_filename (don't remove the double quotes in the cell below)."
   ]
  },
  {
   "cell_type": "code",
   "execution_count": null,
   "metadata": {
    "pycharm": {
     "is_executing": false,
     "name": "#%%\n"
    }
   },
   "outputs": [],
   "source": [
    "portfolio = pd.read_csv(\"data/example_portfolio.csv\", encoding=\"iso-8859-1\")"
   ]
  },
  {
   "cell_type": "markdown",
   "metadata": {},
   "source": [
    "The next cell displays the first 5 rows of data in your file."
   ]
  },
  {
   "cell_type": "code",
   "execution_count": null,
   "metadata": {
    "pycharm": {
     "is_executing": false,
     "name": "#%%\n"
    }
   },
   "outputs": [],
   "source": [
    "portfolio.head(5)"
   ]
  },
  {
   "cell_type": "markdown",
   "metadata": {},
   "source": [
    "To load the data from the data provider, we need to convert the data of the portfolio."
   ]
  },
  {
   "cell_type": "code",
   "execution_count": null,
   "metadata": {
    "pycharm": {
     "is_executing": false,
     "name": "#%%\n"
    }
   },
   "outputs": [],
   "source": [
    "companies = ITR.utils.dataframe_to_portfolio(portfolio)"
   ]
  },
  {
   "cell_type": "markdown",
   "metadata": {},
   "source": [
    "### Step 1: Creating benchmarks \n",
    "The benchmark creation represents the first step of the process, which is to create 15 linear regression models that are used when computing temperature scores.\n",
    "These regression models estimate warming in 2100 from climate scenarios with short, medium, and long-term\n",
    "time frames in metrics like absolute emissions or emissions intensities. Regression models are generated based on scenarios in the [AR6 IPCC Report](https://www.ipcc.ch/assessment-report/ar6/).\n",
    "\n",
    "To learn more about this step the code is available [in R here](https://github.com/WWF-Sweden/ITR-regression/)."
   ]
  },
  {
   "cell_type": "markdown",
   "metadata": {},
   "source": [
    "### Step 2a: Validating company targets\n",
    "In step 2a, the targets are validated according to certain criterias and then aggregated into scope- and company level temperature scores. \n",
    "In addition to defining methods for disclosed targets, this step outlines the\n",
    "methodology used to define a default score to be applied to all non-disclosing companies.\n",
    " \n",
    "The first step in assigning temperature scores to disclosed corporate GHG targets is to\n",
    "assess which types of targets can adequately be matched to a scenario variable, and\n",
    "consequently, which associated linear regression model shall be used. \n",
    "\n",
    "![RegressionModels table 4](https://github.com/WWF-Sweden/ITR-tool/raw/main/examples/images/Table4.png)"
   ]
  },
  {
   "cell_type": "markdown",
   "metadata": {},
   "source": [
    "#### Convert corporate targets to annual reducation rate\n",
    "\n",
    "The second step is to convert the corporate target into a corresponding **CAR, Compunded annual reduction rate**, to match the format of the independent variable of the regression models. These\n",
    "annualized reduction rates are calculated using the formula for CAR:\n",
    "\n",
    "normalized ambition = % change in emissions × target boundary coverage\n",
    "\n",
    "![CAR_caclulation](https://github.com/WWF-Sweden/ITR-tool/raw/main/examples/images/CAR.png)\n",
    "\n",
    "\n",
    "For\n",
    "example, an absolute GHG reduction target of 30% between the base year 2020 and the\n",
    "target year 2035, mapped to the scenario variable Emissions | Kyoto Gases, would result\n",
    "in a compound annual reduction rate of 2.3%. Applying the Emissions | Kyoto Gases linear\n",
    "equation for the long-term timeframe (corresponding to the 2035 target year), this target’s\n",
    "ambition would translate to a 2.1°C temperature score (calculated as 2.81 − 0.30 × 2.3)."
   ]
  },
  {
   "cell_type": "markdown",
   "metadata": {},
   "source": [
    "#### Target validation\n",
    "\n",
    "The target validation process checks that each\n",
    "target is accompanied by the data required to calculate temperature scores in later steps.\n",
    "\n",
    "The following criteria need to be met for a target to be valid:\n",
    "1. the scope coverage of the target must be any single scope or combination of GHG scopes\n",
    "1, 2, or 3;\n",
    "2. target type must be absolute, intensity or ITR with valid metric;\n",
    "3. target progress must be <100% at the date the relevant target was first published;\n",
    "4. base year < target year;\n",
    "5. target year ≥ current year;\n",
    "6. base year GHG data must be available for the emissions scope of the target, i.e.,\n",
    "Scope 1 GHG data for a Scope 1 target, etc.\n",
    "7. boundary coverage of the target is required for the emissions scope(s) of the target,\n",
    "for instance, 60% of the Scope 1 emissions. If this number is missing, the boundary coverage value will\n",
    "be set to zero; and\n",
    "8. target reduction ambition must not be negative.\n",
    "Targets that do not meet the criteria are removed from further calculation."
   ]
  },
  {
   "cell_type": "markdown",
   "metadata": {},
   "source": [
    "#### Default score\n",
    "\n",
    "The purpose of assigning a default temperature score is to provide a means for scoring a full portfolio or value chain although some portfolio constituents lack publicly disclosed targets or fail to meet specific criteria for target coverage or quality.\n",
    "\n",
    "The economy-wide default score in the 1.5 version of the methodology is set to 3.4°C and reflects\n",
    "the pathway expected to be followed if companies continue operating under existing governmental\n",
    "policies, and thus adhering to the minimum requirements of current regulation.\n",
    "\n",
    "This implies that these companies are expected to decarbonise along a 3.4°C pathway, consistent with global policies implemented to ensure reduction of emissions at this rate. The tool also enables users to choose their own default score. For more details, please read section 5.3.2 in the methodology (https://wwfint.awsassets.panda.org/downloads/cdp-wwf-temperature-scoring-methodology---september-2024.pdf)."
   ]
  },
  {
   "cell_type": "markdown",
   "metadata": {},
   "source": [
    "#### Temperature floor\n",
    "\n",
    "The best score applicable to a company’s climate ambition under this methodology is 1.5°C (i.e., in the case where a calculated score results in a temperature that is lower than 1.5°C, the applied score shall be 1.5°C).\n",
    "\n",
    "The reasoning behind flooring all temperature scores to 1.5°C is grounded in the prevailing scientific consensus16 which, at the time of drafting this version of the methodology, remains that 1.5°C represents the lower bound of feasible outcomes within the most optimistic climate scenarios. For more details about the temperature floor, please read section 5.4 in the methodoloby (https://wwfint.awsassets.panda.org/downloads/cdp-wwf-temperature-scoring-methodology---september-2024.pdf). "
   ]
  },
  {
   "cell_type": "markdown",
   "metadata": {},
   "source": [
    "### Step 2b: How to convert a target to a temperature?\n",
    "\n",
    "Since companies often have multiple climate targets, covering different scopes and timeframes, and users may have access to multiple data sources, step 2b aggregates all target data into scores at a company level. This step defines the minimum quality criteria for determining the acceptability of a target to be scored and the steps required to identify and aggregate multiple targets to produce an overall company score. \n",
    "\n",
    "Depending on available company and target data, scores are produced for individual scopes 1, 2, and 3, or for scope 1+2, and later combined into five scopes over three timeframes (short, mid, long-term).\n",
    "Hence the scope coverage and the target year of the targets is necessary to accurately classify these targets. The below figure shows how targets are currently split by scope and timeframe.\n",
    "\n",
    "![ScopesTimeframes](https://github.com/WWF-Sweden/ITR-tool/raw/main/examples/images/JN_CompanyAggregation.png)"
   ]
  },
  {
   "cell_type": "markdown",
   "metadata": {},
   "source": [
    "#### Timeframe\n",
    "\n",
    "The targets are the sorted by timeframe.\n",
    "\n",
    "- Short-term – targets ending in up to 5 years from the current year, e.g., –2029 (current\n",
    "year 2024);\n",
    "-  Mid-term – targets ending 5–10 years from the current year, e.g., 2030–2034 (current\n",
    "year 2024);\n",
    "- Long-term – targets ending in more than 10 years from current year"
   ]
  },
  {
   "cell_type": "markdown",
   "metadata": {},
   "source": [
    "#### Target quality criteria \n",
    "\n",
    "Targets are classified in terms of seven key criteria, shown in the table below:\n",
    "\n",
    "![Target_critera_table](https://github.com/WWF-Sweden/ITR-tool/raw/main/examples/images/Targetcriteria.png)"
   ]
  },
  {
   "cell_type": "markdown",
   "metadata": {},
   "source": [
    "#### Target critera waterfall\n",
    "\n",
    "A company’s targets are sorted by scope coverage and according to three timeframes. Some target\n",
    "quality criteria may be conflicting. Therefore, the method has established a waterfall\n",
    "for these criteria, to determine which criteria should take precedence and be used for\n",
    "scoring. \n",
    "\n",
    "For instance, a user may have multiple targets for the same company, derived from company reporting at different times and/or from different data sources, within the same scope and timeframe, e.g., two mid-term targets covering Scope 1 + 2. \n",
    "\n",
    "The waterfall approach is used to select a single target for each timeframe and a scope category, to provide a single temperature score for each scope and timeframe combination.\n",
    "\n",
    "![Waterfall_table](https://github.com/WWF-Sweden/ITR-tool/raw/main/examples/images/Waterfall_table.png)"
   ]
  },
  {
   "cell_type": "markdown",
   "metadata": {},
   "source": [
    "- **Target vintage**: A company’s latest statement of emission reduction ambition is preferred to earlier\n",
    "communicated targets.\n",
    "\n",
    "- **Boundary coverage**: Targets with the highest boundary coverage are preferred as they reflect a company’s\n",
    "ambition to address a larger share of its overall emissions, thereby enabling\n",
    "a more comprehensive, representative assessment.\n",
    "\n",
    "- **Target types**: Absolute targets are preferred over intensity targets and both are preferred to ITR-targets. When an intensity target is converted to an absolute one, the resulting absolute target is preferred over a non-converted intensity target but ranks below a ‘native’ absolute target.\n",
    "\n",
    "- **Scope coverage**: Single-scope targets are preferred over combined-scope targets, as they offer a\n",
    "differentiated expression of a company’s ambition for each scope and are therefore\n",
    "considered more relevant.\n",
    "\n",
    "- **Reduction ambition**: More ambitious targets are preferred, as measured by CAR.\n",
    "\n",
    "- **Target year**: Within each timeframe bucket, targets with a later target year are preferred as these\n",
    "are more forward-looking."
   ]
  },
  {
   "cell_type": "markdown",
   "metadata": {},
   "source": [
    "#### Target type exceptions\n",
    "\n",
    "There is an exception to this target type rule for Scope 3 targets set.\n",
    "\n",
    "A common mid-term target setting period is 10 years, as used by the Science Based\n",
    "Targets initiative (SBTi) in its target setting framework (Science Based Targets initiative,\n",
    "2024). This 10-year window aims to provide enough time to achieve ambitious goals,\n",
    "without delaying action. Accordingly, to allow for all constituents in a portfolio (or value\n",
    "chain) to complete their emissions reduction action before 2050, these constituents’ targets\n",
    "must have been set and communicated before that, i.e., by 2040 at the latest, to\n",
    "allow for a 10-year implementation period. Thus, for a financial institution (or other corporate)\n",
    "to be able to reach 1.5°C by 2050, all of the constituents in the portfolio (or value\n",
    "chain) must have set their 1.5°C-aligned targets no later than 2040.\n",
    "\n",
    "Therefore, Scope 3 targets set with the CDP–WWF method are scored by linear extrapolation\n",
    "of the targeted TS reduction ambition until 2040:\n",
    "\n",
    "![TS_exception](https://github.com/WWF-Sweden/ITR-tool/raw/main/examples/images/TS_exception.png)"
   ]
  },
  {
   "cell_type": "markdown",
   "metadata": {},
   "source": [
    "#### Target time frames exception\n",
    "\n",
    "Under the SBTi Financial Institutions Near-Term Criteria (https://sciencebasedtargets.org/resources/files/Financial-Institutions-Near-Term-Criteria.pdf), engagement targets are set for a maximum of five years. This would mean that targets set using this method would be treated as short-term targets in the CDP–\n",
    "WWF Temperature Scoring Methodology, which in many FI portfolios would make it impossible to use this method for setting targets under the SBTi framework.\n",
    "\n",
    "##### Why? #####\n",
    "\n",
    "An engagement target of up to five years could then be seen as a similar timeframe to a medium-term non-engagement target.\n",
    "Therefore, the CDP–WWF Temperature Scoring Methodology adds five years to all targets\n",
    "based on SBTi engagement methods to enable this method to treat them as medium-term targets."
   ]
  },
  {
   "cell_type": "markdown",
   "metadata": {},
   "source": [
    "#### Calculate the company temperature scores\n",
    "\n",
    "The temperature score is calculated via the following steps:\n",
    "* Target validation criterias: Here all targets are sorted by time frame and scope per company. For each combination a 'best' target is chosen.\n",
    "* Mapping: Each target is mapped to a regression model based on the type of target (absolute vs. intensity), the company ISIC, the intensity metric (for intensity based targets) and the scope.\n",
    "* Calculation: The mapped regression model returns a linear function to calculate the temperature score based on the compound annual reduction (CAR) of the ambition. TS = intersect + slope * CAR.\n",
    "For example, the formula of the Kyoto Gases regression (10y) is TS = 2.5 + (-0.24) * CAR.\n",
    "\n",
    "In the amended portfolio you'll find your original portfolio, amended with the emissions and the temperature score.\n",
    "\n",
    "The temperature scores can be computed for different scopes and different timeframes.\n",
    "More information on scopes and timeframes can be found in chapter 6 in the methodolgy (https://wwfint.awsassets.panda.org/downloads/cdp-wwf-temperature-scoring-methodology---september-2024.pdf).\n",
    "\n",
    "The timeframe options are SHORT, MID and LONG-term and can be implemented through the ETimeFrames object, in the code below. For example, you can add the SHORT timeframe by replacing the first line of the following cell by:\n",
    "`time_frames = [ETimeFrames.SHORT, ETimeFrames.MID]`\n",
    "\n",
    "The scope options are S1, S2, S3, S1S2, and S1S2S3 and can be implemented using the EScope object. For example, you can add the S3 scope by replacing the second line of the following cell by:\n",
    "`scopes = [EScope.S1, EScope.S2, EScope.S1S2, EScope.S3, EScope.S1S2S3]`\n",
    "\n",
    "* S1: scope 1\n",
    "* S2: scope 2\n",
    "* S2: scope 3\n",
    "\n",
    "In this example, we use the mid-term timeframe and the S1S2 & S1S2S3 scopes to calculate the aggregated company temperature scores. The default temperature score is 3.4.\n",
    "\n",
    "For more information about all fields shown in the output, please refer to [Data Legends](https://wwf-sweden.github.io/ITR-tool/Legends.html#)"
   ]
  },
  {
   "cell_type": "code",
   "execution_count": null,
   "metadata": {
    "pycharm": {
     "is_executing": false,
     "name": "#%%\n"
    }
   },
   "outputs": [],
   "source": [
    "# Set time frame, scopes and aggregation method\n",
    "time_frames=list(ITR.interfaces.ETimeFrames),     # ETimeFrames: SHORT MID and LONG\n",
    "# time_frames = [ETimeFrames.MID] # Alternative to select only one time frame\n",
    "scopes=[EScope.S1, EScope.S2, EScope.S1S2, EScope.S3, EScope.S1S2S3],    # All scopes \n",
    "# scopes = [EScope.S1S2, EScope.S1S2S3] # Alternative to select scopes\n",
    "aggregation_method=PortfolioAggregationMethod.WATS # Options for the aggregation method are WATS, TETS, AOTS, MOTS, EOTS, ECOTS, and ROTS.\n"
   ]
  },
  {
   "cell_type": "code",
   "execution_count": null,
   "metadata": {},
   "outputs": [],
   "source": [
    "# Calculate temperature scores\n",
    "temperature_score = TemperatureScore(\n",
    "    time_frames=time_frames,\n",
    "    scopes=scopes,\n",
    "    aggregation_method=aggregation_method,\n",
    ")\n",
    "amended_portfolio = temperature_score.calculate(data_providers=[provider], portfolio=companies)"
   ]
  },
  {
   "cell_type": "markdown",
   "metadata": {},
   "source": [
    "For every company the tool assigns a score for all the requested timeframe and scope combinations. In this example we used the full set resulting in 9 scores per company as displayed below:"
   ]
  },
  {
   "cell_type": "code",
   "execution_count": null,
   "metadata": {},
   "outputs": [],
   "source": [
    "amended_portfolio[['company_name', 'time_frame', 'scope', 'temperature_score']].head(15)"
   ]
  },
  {
   "cell_type": "markdown",
   "metadata": {},
   "source": [
    "### Step 3: Calculate a portfolio level temperature score\n",
    "This step generates the results at the portfolio level for both the portfolio coverage and the temperature scoring method. Seven portfolio weighting options currently exist:\n",
    "\n",
    "* Option 1: Weighted average temperature score (WATS)\n",
    "* Option 2: Total emissions weighted temperature score (TETS)\n",
    "* Option 3: Market Owned emissions weighted temperature score (MOTS)\n",
    "* Option 4: Enterprise Owned emissions weighted temperature score (EOTS).\n",
    "* Option 5: EV + Cash emissions weighted temperature score (ECOTS)\n",
    "* Option 6: Total Assets emissions weighted temperature score (AOTS)\n",
    "* Option 7: Revenue owned emissions weighted temperature score (ROTS)\n",
    "\n",
    "Please see Section 3 of the [temperature scoring methodology](https://sciencebasedtargets.org/wp-content/uploads/2020/09/Temperature-Rating-Methodology-V1.pdf) for further details of the weighting calculation steps.\n",
    "\n",
    "The financial information imported through the in the data_provider_example.xlxs at the start of this process is used to weight the individual companies in a portfolio. For example, the EOTS, uses the portfolio invested value as a portion of the company’s enterprise value to weight the company’s temperature score. The scores at the company level are aggregated for both scope 1+2, and for scope 1+2+3, generating two portfolio scores for the selected time period.\n",
    "\n",
    "For analysing SBT Portfolio Coverage, the tool also displays the percentage of SBTi approved companies on the portfolio based on the same weighting approach.\n",
    "\n",
    "In this example we use the \"Weighted Average Temperature Score\". For more details on how to use the various weighting options in the notebook, have a look at notebook 3 (\"3_portfolio_aggregations.ipynb\" in the examples folder in [GitHub](https://github.com/WWF-Sweden/ITR-tool)). The temperature scores are calculated per time-frame/scope combination.\n",
    "\n",
    "To change the aggregation method, replace the extension \"`WATS`\" in `PortfolioAggregationMethod.WATS` (the first line) with the abbreviation of the desired aggregation method, e.g. ECOTS, from the list of aggregation options above.\n",
    "The output displays the portfolio temperature score for the time frame and the scopes you have selected."
   ]
  },
  {
   "cell_type": "code",
   "execution_count": null,
   "metadata": {},
   "outputs": [],
   "source": [
    "aggregated_scores = temperature_score.aggregate_scores(amended_portfolio)\n",
    "\n",
    "# Here we cast a ScoreAggregation object to a Pandas Dataframe for viewing the temp scores in a human readable way\n",
    "df_agg = pd.DataFrame(aggregated_scores.dict()).apply(lambda x: x.map(lambda y: round(y['all']['score'], 2) \n",
    "            if y is not None and y['all'] is not None and 'score' in y['all'] else None))\n",
    "df_agg"
   ]
  },
  {
   "cell_type": "code",
   "execution_count": null,
   "metadata": {
    "pycharm": {
     "is_executing": false,
     "name": "#%%\n"
    }
   },
   "outputs": [],
   "source": [
    "temperature_score.aggregation_method = PortfolioAggregationMethod.WATS\n",
    "aggregated_portfolio = temperature_score.aggregate_scores(amended_portfolio)\n",
    "print_aggregations(aggregated_portfolio)"
   ]
  },
  {
   "cell_type": "markdown",
   "metadata": {},
   "source": [
    "#### Portfolio coverage\n",
    "\n",
    "The portfolio coverage gives insights in the coverage of portfolio entities that have set GHG emissions reduction targets, STBi-validated or otherwise. Companies with SBTi status Approved have a score of 100%, all others have a score of 0%.\n",
    "The aggregation method used for the portfolio coverage is the same as for the temperature score. If you want to change that you can do so in the previous section."
   ]
  },
  {
   "cell_type": "code",
   "execution_count": null,
   "metadata": {
    "pycharm": {
     "is_executing": false,
     "name": "#%%\n"
    }
   },
   "outputs": [],
   "source": [
    "portfolio_coverage_tvp = PortfolioCoverageTVP()\n",
    "coverage = portfolio_coverage_tvp.get_portfolio_coverage(amended_portfolio.copy(), temperature_score.aggregation_method)\n",
    "print(\"Part of portfolio with climate targets is {c:.2f}%\".format(c=coverage))"
   ]
  },
  {
   "cell_type": "markdown",
   "metadata": {},
   "source": [
    "### How can I improve my portfolio's temperature score?\n",
    "\n",
    "The final step can be used to get insight into the effect your action can have on your portfolio/value chain temperature score. This can be done by first analysing for example the current hotspots and contributors to the portfolio and sector temperature score.\n",
    "\n",
    "Finally you can also model changes the impact of changes in exposure of your holdings in the portfolio by rerunning the calculations using various scenarios. These scenarios give you an insight to how your score will be affected by certain engagement actions.\n",
    "\n",
    "A total of 6 ready made scenarios can be employed to test strategies for reducing the current temperature score in the last example of this section."
   ]
  },
  {
   "cell_type": "markdown",
   "metadata": {},
   "source": [
    "#### Analysing hotspots\n",
    "\n",
    "The first analysis of your portfolio could be to understand if you have any particular hotspots in your portfolio. We can do that by analysing different groupings of companies.\n",
    "\n",
    "The tool allows you to calculate temperature scores for _groups_ of companies. In this example we group the scores by sector and region, and leave the timeframe and scope unchanged. Any categorical variable in the data provided by you or your data provider (in the `Data_Provider_Example.xlsx` imported above) can be used as grouping variable, e.g. sectors, industries, regions, countries, market cap buckets, as well as the additional fields you imported via the portfolio data.\n",
    "\n",
    "You can change the variable by which the data is grouped by replacing the fourth line in the following cell. For example, replacing \"grouping=['sector', 'region']\" by \"grouping=['sector', 'country']\" would result in temperature scores per sector per country. \n",
    "If you want to change the time frame as well, please refer to the section 'Calculate the company temperature scores' above."
   ]
  },
  {
   "cell_type": "code",
   "execution_count": null,
   "metadata": {
    "pycharm": {
     "is_executing": false,
     "name": "#%%\n"
    }
   },
   "outputs": [],
   "source": [
    "grouping = ['sector', 'region']\n",
    "temperature_score = TemperatureScore(\n",
    "    time_frames=time_frames,\n",
    "    scopes=scopes,\n",
    "    grouping=grouping\n",
    ")\n",
    "grouped_portfolio = temperature_score.calculate(data_providers=[provider], portfolio=companies)\n",
    "grouped_aggregations = temperature_score.aggregate_scores(grouped_portfolio)"
   ]
  },
  {
   "cell_type": "markdown",
   "metadata": {},
   "source": [
    "The aggregated scores can then be used, for example, to show the relation between sectors and regions with respect to temperature score.\n",
    "A visualization of this relation is shown in the heatmap below. The grey fields indicate that the portfolio contains no assest for those combinations.\n",
    "\n",
    "##### Quick analysis\n",
    "\n",
    "We can see here that our North American (NA) Health Care, Asian Consumer discretionary, and NA and Asian IT are in reasonable shape,\n",
    "but that we have many sectors across the globe that have a large number of companies with default scores, where we need to engage\n",
    "and influence these companies to set targets. We need to run some more detailed analysis to identify which sectors and companies\n",
    "are the best candidates for our engagement."
   ]
  },
  {
   "cell_type": "code",
   "execution_count": null,
   "metadata": {
    "pycharm": {
     "is_executing": false,
     "name": "#%%\n"
    }
   },
   "outputs": [],
   "source": [
    "analysis_parameters = ([ETimeFrames.MID], [EScope.S1S2], grouping)\n",
    "plot_grouped_heatmap(grouped_aggregations, analysis_parameters)"
   ]
  },
  {
   "cell_type": "markdown",
   "metadata": {},
   "source": [
    "For example, we see that the Industrials in Asia perform worse than their counterparts in North America and Europe. We can zoom\n",
    "in on the companies in this group and their relative contributions to the group's temperature score."
   ]
  },
  {
   "cell_type": "code",
   "execution_count": null,
   "metadata": {
    "pycharm": {
     "is_executing": false,
     "name": "#%%\n"
    }
   },
   "outputs": [],
   "source": [
    "region =  'Asia'\n",
    "sector = 'Industrials'\n",
    "group = sector + '-' + region\n",
    "group_contributions = get_contributions_per_group(grouped_aggregations, analysis_parameters, group)\n",
    "group_contributions.round(2)"
   ]
  },
  {
   "cell_type": "markdown",
   "metadata": {},
   "source": [
    "#### Sector analysis\n",
    "\n",
    "Sector analysis may help us with bringing some clarity into our analysis from the heatmap above. In order to identify the companies that your portfolio would most benefit from engaging with, we can start with identifying the biggest contributing sectors to the portfolio's temperature score, as in our example below.\n",
    "\n",
    "Contributions can be identified on an individual company level, as well as contributions from companies grouped by one of their characteristics, e.g. sector or region. The exact definitions of companies' contributions to the portfolio temperature scores depend on the selected aggregation method.\n",
    "\n",
    "You can group companies on any categorical variable (e.g. sectors, countries, market cap buckets, investment strategies, etc)  you provide through your dataprovider, in this example in the Data_Provider_Example.xlsx imported above.\n",
    "\n",
    "For our analysis we select one time-frame (MID) and one scope (S1+S2) and group the outcomes on sector and compare AUM to temperature score contribution. We also then display the sector temperature scores.\n",
    "\n",
    "To change the time frame, replace the extension \"MID\" in ETimeFrames.MID (the first line) to SHORT or LONG.\n",
    "To change the time frame, replace the extension \"S1S2\" in EScope.S1S2 (the second line) to S3 or S1S2S3.\n",
    "To change the grouping, replace 'sector' (the third line) to the category variable you are interested in.\n",
    "\n",
    "##### Quick analysis\n",
    "\n",
    "In this example we can see that Materials, Financials, Energy, Consumer Staples and the Communication sectors are all scoring above 3.0C. From the pie charts we can also see that Materials, Financials and Consumer Staples are contributing more to the temperature score than their weight in the portfolio."
   ]
  },
  {
   "cell_type": "code",
   "execution_count": null,
   "metadata": {
    "pycharm": {
     "is_executing": false,
     "name": "#%%\n"
    }
   },
   "outputs": [],
   "source": [
    "time_frames = [ETimeFrames.MID]\n",
    "scopes = [EScope.S1S2]\n",
    "grouping = ['sector']\n",
    "analysis_parameters = (time_frames, scopes, grouping)\n",
    "\n",
    "temperature_score = TemperatureScore(time_frames=time_frames,\n",
    "                                     scopes=scopes,\n",
    "                                     grouping=grouping)\n",
    "amended_portfolio = temperature_score.calculate(data_providers=[provider], portfolio=companies)\n",
    "aggregated_portfolio = temperature_score.aggregate_scores(amended_portfolio)\n",
    "company_contributions = collect_company_contributions(aggregated_portfolio, amended_portfolio, analysis_parameters)"
   ]
  },
  {
   "cell_type": "code",
   "execution_count": null,
   "metadata": {
    "pycharm": {
     "is_executing": false,
     "name": "#%%\n"
    }
   },
   "outputs": [],
   "source": [
    "plot_grouped_statistics(aggregated_portfolio, company_contributions, analysis_parameters)"
   ]
  },
  {
   "cell_type": "markdown",
   "metadata": {},
   "source": [
    "We can use what we learned from this analysis to drill into a few of the highest contributing scoring sectors to see which\n",
    "companies are the biggest contributors on the sector level. Considering the health care sector, for instance, we see in the\n",
    "table below that Company N is by far the largest contributor, and might therefore be a candidate to engage with."
   ]
  },
  {
   "cell_type": "code",
   "execution_count": null,
   "metadata": {
    "pycharm": {
     "is_executing": false,
     "name": "#%%\n"
    }
   },
   "outputs": [],
   "source": [
    "sector_contributions = company_contributions[['company_name', 'company_id', 'sector', 'contribution', 'temperature_score', 'ownership_percentage', 'portfolio_percentage']]\n",
    "sector_contributions.loc[sector_contributions['sector'] == 'Health Care'][:10].round(2)"
   ]
  },
  {
   "cell_type": "markdown",
   "metadata": {},
   "source": [
    "#### Companies to engage with\n",
    "\n",
    "In addition to statistics of the companies grouped by a given category, as we did with the sector analysis above, you can analyse the companies' individual contributions to the portfolio temperature score across the whole portfolio, as we have done below. Alternatively we can use the information we gathered above to do the below analysis for one of the identified sectors. To reiterate, the contribution column shows the contribution of a specific company to the overall portfolio temperature score. The computation of these contributions differs, in accordance with the aggregation methods explained above.\n",
    "\n",
    "In this analysis we are also choosing to display temperature score, ownership and portfolio weight. Therefore, we can use this table to analyse which companies we may have a better chance of having a successful engagement with.\n",
    "We show the top 10 contributing companies. To see more or fewer companies change the '10' near the end of the line in \"[:10]\".\n",
    "\n",
    "##### Quick analysis\n",
    "\n",
    "In this case we are primarily looking at our ownership of the company in relation to the contribution to find companies which we may be able to influence and where our work will have an impact on our portfolio TS.\n",
    "\n",
    "Company N has the biggest contribution to our TS, and even if we have a substantial position in our portfolio, we own a very small part of the company, so any engagement effort by just us may not be that successsful.\n",
    "\n",
    "We may have better luck with Company Q where we own close to 5% of the company, and it is still a reasonably large position in our portfolio and if we are successful, it may have a bigger impact on our portfolio score than with for example company N.\n",
    "\n",
    "Naturally, we can join other investors to influence Company N to convince them to set emission reduction targets. This contribution table gives you some of the information you need to make these decisions."
   ]
  },
  {
   "cell_type": "code",
   "execution_count": null,
   "metadata": {
    "pycharm": {
     "is_executing": false,
     "name": "#%%\n"
    }
   },
   "outputs": [],
   "source": [
    "company_contributions[['company_name', 'company_id', 'contribution', 'temperature_score', 'ownership_percentage', 'portfolio_percentage']][:10].round(2)"
   ]
  },
  {
   "cell_type": "markdown",
   "metadata": {},
   "source": [
    "### What-if analysis\n",
    "To determine the effect of engaging (part of) your portfolio, you can run a number of scenarios:\n",
    " - 1: Engage companies to set 1.75 degree targets. This means that the score of all companies that didn't yet set a target will be set to 1.75 degrees Celsius.\n",
    " - 2: Engage companies to set SBTi-approved targets, ie 1.5 degree targets. The maximum score for all companies that have set targets will be capped at 1.5 degrees Celsius.\n",
    " - 3a: Engage the top 10 contributors to set 1.75 degree targets.\n",
    " - 3b: Engage the top 10 contributors to set SBTi-approved targets. This means that the maximum score for all the targets of these companies will be capped at 1.5 degrees Celsius.\n",
    " - 4a: Engage the predefined companies to set 1.75 degree targets.\n",
    " - 4b: Engage the predefined companies to set SBTi-approved 1.5 degree targets. This means that the maximum score for all the targets of these companies will be capped at 1.5 degrees Celsius.\n",
    "\n",
    "In this example, we identified a couple of companies above where we think we can have some success in our engagement efforts. Next, we will therefore investigate the effect of engaging Company Q and Company AM in setting targets."
   ]
  },
  {
   "cell_type": "markdown",
   "metadata": {},
   "source": [
    "#### Scenario example 4a\n",
    "\n",
    "The cell below defines scenario 4a, which means that we manage to get the companies we engage with, to set GHG emission reduction targets that give them both a score of 1.75C. We will define the companies in the next cell below.  We define these companies by adding \"TRUE\" in the engagement_target-column in the portfolio input-file.\n",
    "\n",
    "This means that their default score (i.e. the score when a company didn't set a target) will be set to 1.75 degrees Celsius. Scenario 4a and 4b gives you a lot of flexibility, as you can define the companies with which you engage freely and for example focus your engagement efforts on certain sectors, countries, market cap buckets to ensure that you spend your time wisely.\n",
    "\n",
    "To change the scenario, replace the extension \"HIGHEST_CONTRIBUTORS_APPROVED\" in ScenarioType.HIGHEST_CONTRIBUTORS_APPROVED (the second line) to TARGETS (for scenario 1), APPROVED_TARGETS (scenario 2) or HIGHEST_CONTRIBUTORS (scenario 3). \n",
    "\n",
    "To differentiate between options a and b in scenario 3 and 4, change the extension \"SET_TARGETS\" in EngagementType.SET_TARGETS. Use \"SET_TARGETS\" for option a and \"SET_SBTI_TARGETS\" for option b. For scenarios 1 and 2 the choice here does not matter. \n",
    "\n",
    "In the fourth and fifth lines the aggregation method and grouping are specified. You can change these the same way as in the previous sections."
   ]
  },
  {
   "cell_type": "code",
   "execution_count": null,
   "metadata": {
    "pycharm": {
     "is_executing": false,
     "name": "#%%\n"
    }
   },
   "outputs": [],
   "source": [
    "scenario = Scenario()\n",
    "scenario.scenario_type = ScenarioType.HIGHEST_CONTRIBUTORS_APPROVED\n",
    "scenario.engagement_type = EngagementType.SET_TARGETS\n",
    "scenario.aggregation_method = PortfolioAggregationMethod.WATS\n",
    "scenario.grouping = 'sector'"
   ]
  },
  {
   "cell_type": "markdown",
   "metadata": {},
   "source": [
    "#### Portfolio temperature score impact\n",
    "\n",
    "In our what-if analysis, we can now add Company Q and Company AM with company IDs CA0000000017 and FR0000120644 to to the companies which have set a target. Please note that our example portfolio file contains a column named \"engagement_target\". The companies with values of 1.0 in this column are included in this scenario. The cell below adds Company Q and Company AM to these other predefined companies in the portfolio, which were already marked for engagement.\n",
    "\n",
    "You can add more companies to target by copying line 2 or 3 of the following cell and replacing the company ID by the ID of your selected company.\n",
    "\n",
    "##### Quick analysis\n",
    "\n",
    "As we can see below, the impact on our portfolio TS of engaging with the companies selected for engagement reduces our portfolio temperatures score from 2.63C to 2.46C."
   ]
  },
  {
   "cell_type": "code",
   "execution_count": null,
   "metadata": {
    "pycharm": {
     "is_executing": false,
     "name": "#%%\n"
    }
   },
   "outputs": [],
   "source": [
    "scenario_portfolio = portfolio.copy()\n",
    "scenario_portfolio.loc[scenario_portfolio['company_id'] == 'CA0000000017', 'engagement_target'] = True\n",
    "scenario_portfolio.loc[scenario_portfolio['company_id'] == 'FR0000120644', 'engagement_target'] = True"
   ]
  },
  {
   "cell_type": "code",
   "execution_count": null,
   "metadata": {
    "pycharm": {
     "is_executing": false,
     "name": "#%%\n"
    }
   },
   "outputs": [],
   "source": [
    "scenario_companies = [ITR.interfaces.PortfolioCompany.parse_obj(company) for company in scenario_portfolio.to_dict(orient=\"records\")]\n",
    "scenario_data = ITR.utils.get_data([provider], scenario_companies)\n",
    "\n",
    "temperature_score.scenario = scenario\n",
    "scenario_companies = ITR.utils.dataframe_to_portfolio(scenario_portfolio)\n",
    "scenario_scores = temperature_score.calculate(data_providers=[provider], portfolio=scenario_companies)\n",
    "scenario_aggregated = temperature_score.aggregate_scores(scenario_scores)\n",
    "print_scenario_gain(aggregated_portfolio, scenario_aggregated)"
   ]
  },
  {
   "cell_type": "markdown",
   "metadata": {},
   "source": [
    "#### Sector temperature score impact\n",
    "\n",
    "We can dig in a bit deeper into our analysis to identify changes in sector temperature scores.\n",
    "\n",
    "In the two cell below we print the scenario effects on temperature score per sector and then display this data with pie charts and and a histogram.\n",
    "The first block shows the scope 1 and 2 mid-term temperature scores per sector calculated with the current temperature scores. The second block shows the temperature scores of the same categories, but now based on the what-if scenario where the chosen companies have set 2 degree targets.\n",
    "\n",
    "##### Quick analysis\n",
    "\n",
    "The Energy and Communication and Real Estate sectors are no longer scoring above 3.0C. We still need to do some work in the Consumer Staples, Materials and Financials sectors, to reduce these sector scores."
   ]
  },
  {
   "cell_type": "code",
   "execution_count": null,
   "metadata": {
    "pycharm": {
     "is_executing": false,
     "name": "#%%\n"
    }
   },
   "outputs": [],
   "source": [
    "print(\"Actual temperature scores\")\n",
    "print_grouped_scores(aggregated_portfolio)\n",
    "print(\"\\n\\nScenario temperature scores\")\n",
    "print_grouped_scores(scenario_aggregated)"
   ]
  },
  {
   "cell_type": "code",
   "execution_count": null,
   "metadata": {
    "pycharm": {
     "is_executing": false,
     "name": "#%%\n"
    }
   },
   "outputs": [],
   "source": [
    "scenario_contributions = collect_company_contributions(scenario_aggregated, scenario_scores, analysis_parameters)\n",
    "plot_grouped_statistics(scenario_aggregated, scenario_contributions, analysis_parameters)"
   ]
  },
  {
   "cell_type": "markdown",
   "metadata": {},
   "source": [
    "#### Company temperature score contribution impact\n",
    "\n",
    "If our engagement is successful we can see that both Company Q and Company AM would move down the list of biggest contributing companies to our TS."
   ]
  },
  {
   "cell_type": "code",
   "execution_count": null,
   "metadata": {
    "pycharm": {
     "is_executing": false,
     "name": "#%%\n"
    }
   },
   "outputs": [],
   "source": [
    "scenario_contributions['temperature_score_change'] = scenario_contributions['temperature_score'] - company_contributions['temperature_score']\n",
    "scenario_contributions['contribution_change'] = scenario_contributions['contribution'] - company_contributions['contribution']\n",
    "largest_reductions = scenario_contributions[scenario_contributions['temperature_score_change'] != 0.0]\n",
    "pd.concat([\n",
    "    scenario_contributions[['company_name', 'contribution', 'contribution_change', 'temperature_score', 'temperature_score_change', 'ownership_percentage', 'portfolio_percentage']][:10],\n",
    "    largest_reductions[['company_name', 'contribution', 'contribution_change', 'temperature_score', 'temperature_score_change', 'ownership_percentage', 'portfolio_percentage']]\n",
    "]).round(2)"
   ]
  },
  {
   "cell_type": "markdown",
   "metadata": {},
   "source": [
    "### Save your data for further analysis\n",
    "To take your analysis outside of this notebook and for example for internal and client reporting, you can export all data to Excel and the clipboard for pasting into and analysing in other applications."
   ]
  },
  {
   "cell_type": "markdown",
   "metadata": {},
   "source": [
    "If you run the Finance tool locally or from Google Colab, you:\n",
    "- Specify the filenames of the output files in the cell below, e.g. change 'data_dump.xlsx' in the first line to 'TS_output.xlsx'\n",
    "- Run the cell below"
   ]
  },
  {
   "cell_type": "code",
   "execution_count": null,
   "metadata": {
    "pycharm": {
     "is_executing": false,
     "name": "#%%\n"
    }
   },
   "outputs": [],
   "source": [
    "data_dump_filename = 'data_dump.xlsx'\n",
    "amended_portfolio.set_index(['company_name', 'company_id']).to_excel(data_dump_filename)"
   ]
  },
  {
   "cell_type": "markdown",
   "metadata": {},
   "source": [
    "If you run the Finance tool from Google Colab, you:\n",
    "- Click on the files icon in the left pane\n",
    "- Click the three dots that appear after hovering over the file\n",
    "- Download the file to your local machine\n",
    "\n",
    "\n"
   ]
  }
 ],
 "metadata": {
  "kernelspec": {
   "display_name": "Python 3 (ipykernel)",
   "language": "python",
   "name": "python3"
  },
  "language_info": {
   "codemirror_mode": {
    "name": "ipython",
    "version": 3
   },
   "file_extension": ".py",
   "mimetype": "text/x-python",
   "name": "python",
   "nbconvert_exporter": "python",
   "pygments_lexer": "ipython3",
   "version": "3.9.6"
  },
  "pycharm": {
   "stem_cell": {
    "cell_type": "raw",
    "metadata": {
     "collapsed": false
    },
    "source": []
   }
  }
 },
 "nbformat": 4,
 "nbformat_minor": 1
}
